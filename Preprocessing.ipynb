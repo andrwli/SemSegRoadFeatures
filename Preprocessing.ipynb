{
 "cells": [
  {
   "cell_type": "code",
   "execution_count": 2,
   "metadata": {},
   "outputs": [],
   "source": [
    "import numpy as np\n",
    "import os\n",
    "from PIL import Image"
   ]
  },
  {
   "cell_type": "code",
   "execution_count": 3,
   "metadata": {},
   "outputs": [],
   "source": [
    "training_im_source_path = '/home/ec2-user/SageMaker/data/training/images'\n",
    "training_im_dest_path = '/home/ec2-user/SageMaker/preprocessed_data/training/images'\n",
    "\n",
    "training_lbl_source_path = '/home/ec2-user/SageMaker/data/training/labels'\n",
    "training_lbl_dest_path = '/home/ec2-user/SageMaker/preprocessed_data/training/labels'\n",
    "\n",
    "valid_im_source_path = '/home/ec2-user/SageMaker/data/validation/images'\n",
    "valid_im_dest_path = '/home/ec2-user/SageMaker/preprocessed_data/validation/images'\n",
    "\n",
    "valid_lbl_source_path = '/home/ec2-user/SageMaker/data/validation/labels'\n",
    "valid_lbl_dest_path = '/home/ec2-user/SageMaker/preprocessed_data/validation/labels'"
   ]
  },
  {
   "cell_type": "code",
   "execution_count": 6,
   "metadata": {},
   "outputs": [],
   "source": [
    "def scale_images(images_source_path, images_dest_path, max_size=(512, 512)):\n",
    "    print(\"scaling images...\")\n",
    "    print(\"max resolution is {} x {}\".format(max_size[0], max_size[1]))\n",
    "\n",
    "    for f in os.listdir(images_source_path):\n",
    "        source = os.path.join(images_source_path, f)\n",
    "        destination = os.path.join(images_dest_path, f)\n",
    "\n",
    "        im = Image.open(source)\n",
    "        im.thumbnail(max_size, Image.ANTIALIAS)\n",
    "        im.save(destination)"
   ]
  },
  {
   "cell_type": "code",
   "execution_count": 7,
   "metadata": {},
   "outputs": [
    {
     "name": "stdout",
     "output_type": "stream",
     "text": [
      "scaling images...\n",
      "max resolution is 512 x 512\n"
     ]
    }
   ],
   "source": [
    "scale_images(training_im_source_path, training_im_dest_path)"
   ]
  },
  {
   "cell_type": "code",
   "execution_count": 8,
   "metadata": {},
   "outputs": [
    {
     "name": "stdout",
     "output_type": "stream",
     "text": [
      "scaling images...\n",
      "max resolution is 512 x 512\n"
     ]
    }
   ],
   "source": [
    "scale_images(training_lbl_source_path, training_lbl_dest_path)"
   ]
  },
  {
   "cell_type": "code",
   "execution_count": 9,
   "metadata": {},
   "outputs": [
    {
     "name": "stdout",
     "output_type": "stream",
     "text": [
      "scaling images...\n",
      "max resolution is 512 x 512\n"
     ]
    }
   ],
   "source": [
    "scale_images(valid_im_source_path, valid_im_dest_path)"
   ]
  },
  {
   "cell_type": "code",
   "execution_count": 10,
   "metadata": {},
   "outputs": [
    {
     "name": "stdout",
     "output_type": "stream",
     "text": [
      "scaling images...\n",
      "max resolution is 512 x 512\n"
     ]
    }
   ],
   "source": [
    "scale_images(valid_lbl_source_path, valid_lbl_dest_path)"
   ]
  },
  {
   "cell_type": "code",
   "execution_count": 14,
   "metadata": {},
   "outputs": [],
   "source": [
    "training_color_path = '/home/ec2-user/SageMaker/preprocessed_data/training/labels'\n",
    "validation_color_path = '/home/ec2-user/SageMaker/preprocessed_data/validation/labels'\n",
    "\n",
    "training_class_path = '/home/ec2-user/SageMaker/preprocessed_data/training/class_labels'\n",
    "validation_class_path = '/home/ec2-user/SageMaker/preprocessed_data/validation/class_labels'"
   ]
  },
  {
   "cell_type": "code",
   "execution_count": 15,
   "metadata": {},
   "outputs": [],
   "source": [
    "def color_to_class_labels(color_labels_path, class_labels_path):\n",
    "    print(\"converting color to class labels\")\n",
    "\n",
    "    for f in os.listdir(color_labels_path):\n",
    "        source = os.path.join(color_labels_path, f)\n",
    "        destination = os.path.join(class_labels_path, f)\n",
    "\n",
    "        im = Image.fromarray(np.array(Image.open(source)))\n",
    "        im.save(destination)"
   ]
  },
  {
   "cell_type": "code",
   "execution_count": 16,
   "metadata": {},
   "outputs": [
    {
     "name": "stdout",
     "output_type": "stream",
     "text": [
      "converting color to class labels\n"
     ]
    }
   ],
   "source": [
    "color_to_class_labels(training_color_path, training_class_path)"
   ]
  },
  {
   "cell_type": "code",
   "execution_count": 17,
   "metadata": {},
   "outputs": [
    {
     "name": "stdout",
     "output_type": "stream",
     "text": [
      "converting color to class labels\n"
     ]
    }
   ],
   "source": [
    "color_to_class_labels(validation_color_path, validation_class_path)"
   ]
  },
  {
   "cell_type": "code",
   "execution_count": null,
   "metadata": {},
   "outputs": [],
   "source": []
  }
 ],
 "metadata": {
  "kernelspec": {
   "display_name": "conda_pytorch_p36",
   "language": "python",
   "name": "conda_pytorch_p36"
  },
  "language_info": {
   "codemirror_mode": {
    "name": "ipython",
    "version": 3
   },
   "file_extension": ".py",
   "mimetype": "text/x-python",
   "name": "python",
   "nbconvert_exporter": "python",
   "pygments_lexer": "ipython3",
   "version": "3.6.10"
  }
 },
 "nbformat": 4,
 "nbformat_minor": 4
}
